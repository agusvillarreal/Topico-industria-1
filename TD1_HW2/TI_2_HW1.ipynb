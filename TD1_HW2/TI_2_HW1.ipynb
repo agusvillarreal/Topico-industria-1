{
 "cells": [
  {
   "cell_type": "markdown",
   "metadata": {},
   "source": [
    "# Homework 2\n",
    "\n",
    "**Name:** -- Agustin Villarreal --\n",
    "\n",
    "**e-mail:** -- agustin.villarreal0743@alumnos.udg.mx --"
   ]
  },
  {
   "cell_type": "markdown",
   "metadata": {},
   "source": [
    "# MODULES"
   ]
  },
  {
   "cell_type": "code",
   "execution_count": 5,
   "metadata": {},
   "outputs": [],
   "source": [
    "# Load modules\n",
    "import numpy as np\n",
    "import matplotlib.pyplot as plt\n",
    "import plotly.graph_objects as go\n",
    "from plotly.subplots import make_subplots\n",
    "import ipywidgets as widgets\n",
    "from IPython.display import display, clear_output\n",
    "import math\n",
    "import scipy.stats as stats\n"
   ]
  },
  {
   "cell_type": "code",
   "execution_count": 6,
   "metadata": {},
   "outputs": [],
   "source": [
    "# Define 2Vec class\n",
    "class Vec2d(object):\n",
    "    \"\"\"\n",
    "    2d vector class, supports vector and scalar operators,\n",
    "       and also provides a bunch of high level functions\n",
    "    \"\"\"\n",
    "    __slots__ = ['x', 'y']\n",
    "\n",
    "    def __init__(self, x_or_pair, y = None):\n",
    "        if y == None:            \n",
    "            self.x = x_or_pair[0]\n",
    "            self.y = x_or_pair[1]\n",
    "        else:\n",
    "            self.x = x_or_pair\n",
    "            self.y = y\n",
    "            \n",
    "    # Addition\n",
    "    def __add__(self, other):\n",
    "        if isinstance(other, Vec2d):\n",
    "            return Vec2d(self.x + other.x, self.y + other.y)\n",
    "        elif hasattr(other, \"__getitem__\"):\n",
    "            return Vec2d(self.x + other[0], self.y + other[1])\n",
    "        else:\n",
    "            return Vec2d(self.x + other, self.y + other)\n",
    "\n",
    "    # Subtraction\n",
    "    def __sub__(self, other):\n",
    "        if isinstance(other, Vec2d):\n",
    "            return Vec2d(self.x - other.x, self.y - other.y)\n",
    "        elif (hasattr(other, \"__getitem__\")):\n",
    "            return Vec2d(self.x - other[0], self.y - other[1])\n",
    "        else:\n",
    "            return Vec2d(self.x - other, self.y - other)\n",
    "    \n",
    "    # Vector length\n",
    "    def get_length(self):\n",
    "        return math.sqrt(self.x**2 + self.y**2)\n",
    "    \n",
    "    # rotate vector\n",
    "    def rotated(self, angle):        \n",
    "        cos = math.cos(angle)\n",
    "        sin = math.sin(angle)\n",
    "        x = self.x*cos - self.y*sin\n",
    "        y = self.x*sin + self.y*cos\n",
    "        return Vec2d(x, y)\n",
    "    \n",
    "    def __str__(self):\n",
    "        return f\"Vec2d({self.x}, {self.y})\"\n",
    "    \n",
    "    def __repr__(self):\n",
    "        return f\"Vec2d({self.x}, {self.y})\"\n",
    "    \n",
    "    def to_tuple(self):\n",
    "        return (self.x, self.y)"
   ]
  },
  {
   "cell_type": "code",
   "execution_count": null,
   "metadata": {},
   "outputs": [],
   "source": [
    "# Function to be optimized\n"
   ]
  },
  {
   "cell_type": "code",
   "execution_count": null,
   "metadata": {},
   "outputs": [],
   "source": [
    "# Run gradient descent algorithm"
   ]
  },
  {
   "cell_type": "code",
   "execution_count": null,
   "metadata": {},
   "outputs": [],
   "source": [
    "# Plot the results"
   ]
  }
 ],
 "metadata": {
  "kernelspec": {
   "display_name": "Python 3",
   "language": "python",
   "name": "python3"
  },
  "language_info": {
   "codemirror_mode": {
    "name": "ipython",
    "version": 3
   },
   "file_extension": ".py",
   "mimetype": "text/x-python",
   "name": "python",
   "nbconvert_exporter": "python",
   "pygments_lexer": "ipython3",
   "version": "3.12.2"
  }
 },
 "nbformat": 4,
 "nbformat_minor": 2
}
