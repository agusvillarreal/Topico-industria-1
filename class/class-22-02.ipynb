{
 "cells": [
  {
   "cell_type": "markdown",
   "id": "5e08f6c9-bb76-46e0-a3e1-f0daa70cd8fd",
   "metadata": {},
   "source": [
    "# Metrics"
   ]
  },
  {
   "cell_type": "code",
   "execution_count": null,
   "id": "00ff4006-e134-444e-b558-503f645e835e",
   "metadata": {},
   "outputs": [],
   "source": [
    "import numpy as np"
   ]
  },
  {
   "cell_type": "code",
   "execution_count": null,
   "id": "030be4d6-a147-4f95-b14d-531cabbf7828",
   "metadata": {},
   "outputs": [],
   "source": [
    "BM_2D_df_3 = bm_2d(n_steps=1000, speed=3)\n",
    "BM_2D_df_6 = bm_2d(n_steps=1000, speed=3)"
   ]
  },
  {
   "cell_type": "code",
   "execution_count": 1,
   "id": "1de23028-e8d1-4f07-a22c-aaebd055d685",
   "metadata": {},
   "outputs": [
    {
     "ename": "NameError",
     "evalue": "name 'a' is not defined",
     "output_type": "error",
     "traceback": [
      "\u001b[0;31m---------------------------------------------------------------------------\u001b[0m",
      "\u001b[0;31mNameError\u001b[0m                                 Traceback (most recent call last)",
      "Cell \u001b[0;32mIn[1], line 2\u001b[0m\n\u001b[1;32m      1\u001b[0m \u001b[38;5;66;03m# vectors\u001b[39;00m\n\u001b[0;32m----> 2\u001b[0m ab \u001b[38;5;241m=\u001b[39m \u001b[43ma\u001b[49m \u001b[38;5;241m-\u001b[39m b\n\u001b[1;32m      3\u001b[0m bc \u001b[38;5;241m=\u001b[39m b \u001b[38;5;241m-\u001b[39m c\n\u001b[1;32m      5\u001b[0m cross_p \u001b[38;5;241m=\u001b[39m np\u001b[38;5;241m.\u001b[39mcross(ab, bc)\n",
      "\u001b[0;31mNameError\u001b[0m: name 'a' is not defined"
     ]
    }
   ],
   "source": [
    "# vectors\n",
    "ab = a - b\n",
    "bc = b - c\n",
    "\n",
    "cross_p = np.cross(ab, bc)\n",
    "orientation = np.sign(cross_p)\n",
    "if orientation == 0:\n",
    "    orientation = 1\n",
    "\n",
    "\n",
    "theta = theta * orientation\n"
   ]
  }
 ],
 "metadata": {
  "kernelspec": {
   "display_name": "Python 3 (ipykernel)",
   "language": "python",
   "name": "python3"
  },
  "language_info": {
   "codemirror_mode": {
    "name": "ipython",
    "version": 3
   },
   "file_extension": ".py",
   "mimetype": "text/x-python",
   "name": "python",
   "nbconvert_exporter": "python",
   "pygments_lexer": "ipython3",
   "version": "3.13.1"
  }
 },
 "nbformat": 4,
 "nbformat_minor": 5
}
